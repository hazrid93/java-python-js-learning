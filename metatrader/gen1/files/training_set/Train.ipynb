{
 "cells": [
  {
   "cell_type": "code",
   "execution_count": 1,
   "metadata": {},
   "outputs": [],
   "source": [
    "from tensorflow.python.keras.preprocessing.image import ImageDataGenerator\n",
    "from tensorflow.python.keras.models import Sequential\n",
    "from tensorflow.python.keras.layers import Conv2D, MaxPooling2D\n",
    "from tensorflow.python.keras.layers import Activation, Dropout, Flatten, Dense\n",
    "from tensorflow.keras.callbacks import ModelCheckpoint\n",
    "from tensorflow.keras.models import load_model"
   ]
  },
  {
   "cell_type": "code",
   "execution_count": 2,
   "metadata": {},
   "outputs": [],
   "source": [
    "train_dir = 'Train'\n",
    "val_dir = 'Val'\n",
    "img_width, img_height = 566, 566\n",
    "input_shape = (img_width, img_height, 3)\n",
    "epochs = 20\n",
    "batch_size = 7\n",
    "nb_train_samples = 4313\n",
    "nb_validation_samples = 1680"
   ]
  },
  {
   "cell_type": "code",
   "execution_count": 3,
   "metadata": {},
   "outputs": [],
   "source": [
    "model = Sequential()\n",
    "model.add(Conv2D(96, (3, 3), input_shape=input_shape))\n",
    "model.add(Activation('relu'))\n",
    "model.add(MaxPooling2D(pool_size=(2, 2)))\n",
    "\n",
    "model.add(Conv2D(32, (3, 3)))\n",
    "model.add(Activation('relu'))\n",
    "model.add(MaxPooling2D(pool_size=(2, 2)))\n",
    "\n",
    "model.add(Conv2D(16, (3, 3)))\n",
    "model.add(Activation('relu'))\n",
    "model.add(MaxPooling2D(pool_size=(2, 2)))\n",
    "\n",
    "model.add(Flatten())\n",
    "model.add(Dense(64))\n",
    "model.add(Activation('relu'))\n",
    "model.add(Dropout(0.5))\n",
    "model.add(Dense(1))\n",
    "model.add(Activation('sigmoid'))"
   ]
  },
  {
   "cell_type": "code",
   "execution_count": 4,
   "metadata": {},
   "outputs": [
    {
     "name": "stdout",
     "output_type": "stream",
     "text": [
      "Model: \"sequential\"\n",
      "_________________________________________________________________\n",
      "Layer (type)                 Output Shape              Param #   \n",
      "=================================================================\n",
      "conv2d (Conv2D)              (None, 564, 564, 96)      2688      \n",
      "_________________________________________________________________\n",
      "activation (Activation)      (None, 564, 564, 96)      0         \n",
      "_________________________________________________________________\n",
      "max_pooling2d (MaxPooling2D) (None, 282, 282, 96)      0         \n",
      "_________________________________________________________________\n",
      "conv2d_1 (Conv2D)            (None, 280, 280, 32)      27680     \n",
      "_________________________________________________________________\n",
      "activation_1 (Activation)    (None, 280, 280, 32)      0         \n",
      "_________________________________________________________________\n",
      "max_pooling2d_1 (MaxPooling2 (None, 140, 140, 32)      0         \n",
      "_________________________________________________________________\n",
      "conv2d_2 (Conv2D)            (None, 138, 138, 16)      4624      \n",
      "_________________________________________________________________\n",
      "activation_2 (Activation)    (None, 138, 138, 16)      0         \n",
      "_________________________________________________________________\n",
      "max_pooling2d_2 (MaxPooling2 (None, 69, 69, 16)        0         \n",
      "_________________________________________________________________\n",
      "flatten (Flatten)            (None, 76176)             0         \n",
      "_________________________________________________________________\n",
      "dense (Dense)                (None, 64)                4875328   \n",
      "_________________________________________________________________\n",
      "activation_3 (Activation)    (None, 64)                0         \n",
      "_________________________________________________________________\n",
      "dropout (Dropout)            (None, 64)                0         \n",
      "_________________________________________________________________\n",
      "dense_1 (Dense)              (None, 1)                 65        \n",
      "_________________________________________________________________\n",
      "activation_4 (Activation)    (None, 1)                 0         \n",
      "=================================================================\n",
      "Total params: 4,910,385\n",
      "Trainable params: 4,910,385\n",
      "Non-trainable params: 0\n",
      "_________________________________________________________________\n"
     ]
    }
   ],
   "source": [
    "#model=load_model('cnn_Open20.hdf5')\n",
    "model.summary()"
   ]
  },
  {
   "cell_type": "code",
   "execution_count": 5,
   "metadata": {},
   "outputs": [],
   "source": [
    "model.compile(loss='binary_crossentropy',\n",
    "              optimizer='sgd',\n",
    "              metrics=['accuracy'])"
   ]
  },
  {
   "cell_type": "code",
   "execution_count": 6,
   "metadata": {},
   "outputs": [],
   "source": [
    "datagen = ImageDataGenerator(rescale=1. / 255)"
   ]
  },
  {
   "cell_type": "code",
   "execution_count": 7,
   "metadata": {},
   "outputs": [
    {
     "name": "stdout",
     "output_type": "stream",
     "text": [
      "Found 4313 images belonging to 2 classes.\n"
     ]
    }
   ],
   "source": [
    "train_generator = datagen.flow_from_directory(\n",
    "    train_dir,\n",
    "    target_size=(img_width, img_height),\n",
    "    batch_size=batch_size,\n",
    "    class_mode='binary',\n",
    "    shuffle=False)"
   ]
  },
  {
   "cell_type": "code",
   "execution_count": 8,
   "metadata": {},
   "outputs": [
    {
     "name": "stdout",
     "output_type": "stream",
     "text": [
      "Found 1680 images belonging to 2 classes.\n"
     ]
    }
   ],
   "source": [
    "val_generator = datagen.flow_from_directory(\n",
    "    val_dir,\n",
    "    target_size=(img_width, img_height),\n",
    "    batch_size=batch_size,\n",
    "    class_mode='binary',\n",
    "    shuffle=False)"
   ]
  },
  {
   "cell_type": "code",
   "execution_count": 9,
   "metadata": {},
   "outputs": [],
   "source": [
    "callbacks = [ModelCheckpoint('cnn_Open{epoch:1d}.hdf5')]"
   ]
  },
  {
   "cell_type": "code",
   "execution_count": 10,
   "metadata": {},
   "outputs": [
    {
     "name": "stdout",
     "output_type": "stream",
     "text": [
      "Epoch 1/20\n",
      "616/616 [==============================] - 83s 124ms/step - loss: 0.7022 - accuracy: 0.5172 - val_loss: 0.6941 - val_accuracy: 0.5000\n",
      "Epoch 2/20\n",
      "616/616 [==============================] - 57s 92ms/step - loss: 0.6930 - accuracy: 0.5283 - val_loss: 0.6946 - val_accuracy: 0.5000\n",
      "Epoch 3/20\n",
      "616/616 [==============================] - 57s 92ms/step - loss: 0.6928 - accuracy: 0.5197 - val_loss: 0.6932 - val_accuracy: 0.5000\n",
      "Epoch 4/20\n",
      "616/616 [==============================] - 57s 92ms/step - loss: 0.6922 - accuracy: 0.5204 - val_loss: 0.6954 - val_accuracy: 0.5000\n",
      "Epoch 5/20\n",
      "616/616 [==============================] - 57s 92ms/step - loss: 0.6924 - accuracy: 0.5276 - val_loss: 0.6945 - val_accuracy: 0.5000\n",
      "Epoch 6/20\n",
      "616/616 [==============================] - 57s 93ms/step - loss: 0.6929 - accuracy: 0.5344 - val_loss: 0.6926 - val_accuracy: 0.5000\n",
      "Epoch 7/20\n",
      "616/616 [==============================] - 57s 92ms/step - loss: 0.6885 - accuracy: 0.5427 - val_loss: 0.6885 - val_accuracy: 0.5690\n",
      "Epoch 8/20\n",
      "616/616 [==============================] - 59s 96ms/step - loss: 0.6829 - accuracy: 0.5827 - val_loss: 0.6801 - val_accuracy: 0.5827\n",
      "Epoch 9/20\n",
      "616/616 [==============================] - 63s 102ms/step - loss: 0.6627 - accuracy: 0.6161 - val_loss: 0.6670 - val_accuracy: 0.5940\n",
      "Epoch 10/20\n",
      "616/616 [==============================] - 64s 103ms/step - loss: 0.6261 - accuracy: 0.6612 - val_loss: 0.6429 - val_accuracy: 0.6304\n",
      "Epoch 11/20\n",
      "616/616 [==============================] - 61s 100ms/step - loss: 0.5869 - accuracy: 0.6981 - val_loss: 0.6441 - val_accuracy: 0.6286\n",
      "Epoch 12/20\n",
      "616/616 [==============================] - 62s 100ms/step - loss: 0.5416 - accuracy: 0.7220 - val_loss: 0.6312 - val_accuracy: 0.6351\n",
      "Epoch 13/20\n",
      "616/616 [==============================] - 59s 96ms/step - loss: 0.4878 - accuracy: 0.7589 - val_loss: 0.6491 - val_accuracy: 0.6298\n",
      "Epoch 14/20\n",
      "616/616 [==============================] - 59s 96ms/step - loss: 0.4333 - accuracy: 0.7905 - val_loss: 0.6815 - val_accuracy: 0.6310\n",
      "Epoch 15/20\n",
      "616/616 [==============================] - 56s 90ms/step - loss: 0.3939 - accuracy: 0.8191 - val_loss: 0.6859 - val_accuracy: 0.6173\n",
      "Epoch 16/20\n",
      "616/616 [==============================] - 55s 89ms/step - loss: 0.3492 - accuracy: 0.8412 - val_loss: 0.7447 - val_accuracy: 0.6292\n",
      "Epoch 17/20\n",
      "616/616 [==============================] - 53s 86ms/step - loss: 0.3257 - accuracy: 0.8435 - val_loss: 0.7485 - val_accuracy: 0.6339\n",
      "Epoch 18/20\n",
      "616/616 [==============================] - 55s 89ms/step - loss: 0.2855 - accuracy: 0.8693 - val_loss: 0.7932 - val_accuracy: 0.6339\n",
      "Epoch 19/20\n",
      "616/616 [==============================] - 56s 90ms/step - loss: 0.2698 - accuracy: 0.8774 - val_loss: 0.7973 - val_accuracy: 0.6351\n",
      "Epoch 20/20\n",
      "616/616 [==============================] - 56s 90ms/step - loss: 0.2528 - accuracy: 0.8876 - val_loss: 0.8104 - val_accuracy: 0.6411\n"
     ]
    },
    {
     "data": {
      "text/plain": [
       "<tensorflow.python.keras.callbacks.History at 0x1ca4e5bb1f0>"
      ]
     },
     "execution_count": 10,
     "metadata": {},
     "output_type": "execute_result"
    }
   ],
   "source": [
    "model.fit(\n",
    "    train_generator,\n",
    "    steps_per_epoch=nb_train_samples // batch_size,\n",
    "    epochs=epochs,\n",
    "    validation_data=val_generator,\n",
    "    validation_steps=nb_validation_samples // batch_size,\n",
    "    callbacks=callbacks)"
   ]
  }
 ],
 "metadata": {
  "kernelspec": {
   "display_name": "Python 3",
   "language": "python",
   "name": "python3"
  },
  "language_info": {
   "codemirror_mode": {
    "name": "ipython",
    "version": 3
   },
   "file_extension": ".py",
   "mimetype": "text/x-python",
   "name": "python",
   "nbconvert_exporter": "python",
   "pygments_lexer": "ipython3",
   "version": "3.9.9"
  }
 },
 "nbformat": 4,
 "nbformat_minor": 4
}
